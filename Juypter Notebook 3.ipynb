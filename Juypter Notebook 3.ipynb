{
 "cells": [
  {
   "cell_type": "markdown",
   "metadata": {},
   "source": [
    "# My Jupyter Notebook on IBM Data Science Experience\n"
   ]
  },
  {
   "cell_type": "markdown",
   "metadata": {},
   "source": [
    " **Kevin Breslin** \n",
    " \n",
    " Researcher"
   ]
  },
  {
   "cell_type": "markdown",
   "metadata": {},
   "source": [
    "*I am interested in data science because it brings together a useful combination of mathematics, computer programming, and analysis into formats that trigger the analysis of data to establish new information*"
   ]
  },
  {
   "cell_type": "markdown",
   "metadata": {},
   "source": [
    "### The code in Cell 5 is supposed to calculate the sine of pi/2"
   ]
  },
  {
   "cell_type": "code",
   "execution_count": 49,
   "metadata": {},
   "outputs": [
    {
     "name": "stdout",
     "output_type": "stream",
     "text": [
      "1.0\n"
     ]
    }
   ],
   "source": [
    "sin(pi/2)\n",
    "print(sin(pi/2))"
   ]
  },
  {
   "cell_type": "markdown",
   "metadata": {},
   "source": [
    "* The code above calculates that $sin{(\\pi/2)} = 1$\n",
    "\n",
    "* The table below shows that $sin{(3\\pi/2)} = 1$\n",
    "\n",
    "| x  | sin{pi*x}  |\n",
    "| -- |---------| \n",
    "| 0  | 0 | \n",
    "| 0.5 | 1    |\n",
    "| 1 |0   |\n",
    "| 0.75 | 1    |\n",
    "| 2 |0   |\n",
    "\n",
    "\n",
    "* The table below shows that $sin{(\\pi/2\\times(n+1))} = 1$ for all integer values of n and when sine is calculated in radians\n",
    "\n",
    ">The radian is a unit of angular measure defined such that an angle of one radian subtended from the center of a unit circle produces an arc with arc length 1.\n",
    "\n",
    "Weisstein, Eric W. \"Radian.\" From MathWorld--A Wolfram Web Resource. http://mathworld.wolfram.com/Radian.html\n",
    " "
   ]
  }
 ],
 "metadata": {
  "kernelspec": {
   "display_name": "Python 3",
   "language": "python",
   "name": "python3"
  },
  "language_info": {
   "codemirror_mode": {
    "name": "ipython",
    "version": 3
   },
   "file_extension": ".py",
   "mimetype": "text/x-python",
   "name": "python",
   "nbconvert_exporter": "python",
   "pygments_lexer": "ipython3",
   "version": "3.6.8"
  }
 },
 "nbformat": 4,
 "nbformat_minor": 2
}
